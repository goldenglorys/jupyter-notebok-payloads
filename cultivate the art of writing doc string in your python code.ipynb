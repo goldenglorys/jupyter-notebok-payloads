{
 "cells": [
  {
   "cell_type": "code",
   "execution_count": 4,
   "metadata": {},
   "outputs": [
    {
     "name": "stdout",
     "output_type": "stream",
     "text": [
      "Help on function docStringHabit in module __main__:\n",
      "\n",
      "docStringHabit()\n",
      "    This function does noting, except to print a message\n",
      "    And it's an art to make sure doc strong habit is cultivated\n",
      "\n"
     ]
    }
   ],
   "source": [
    "def docStringHabit():\n",
    "    \"\"\" This function does noting, except to print a message\n",
    "    And it's an art to make sure doc strong habit is cultivated\n",
    "    \"\"\"\n",
    "    \n",
    "help(docStringHabit)\n"
   ]
  },
  {
   "cell_type": "code",
   "execution_count": null,
   "metadata": {},
   "outputs": [],
   "source": []
  }
 ],
 "metadata": {
  "kernelspec": {
   "display_name": "Python 3",
   "language": "python",
   "name": "python3"
  },
  "language_info": {
   "codemirror_mode": {
    "name": "ipython",
    "version": 3
   },
   "file_extension": ".py",
   "mimetype": "text/x-python",
   "name": "python",
   "nbconvert_exporter": "python",
   "pygments_lexer": "ipython3",
   "version": "3.8.3"
  }
 },
 "nbformat": 4,
 "nbformat_minor": 4
}
