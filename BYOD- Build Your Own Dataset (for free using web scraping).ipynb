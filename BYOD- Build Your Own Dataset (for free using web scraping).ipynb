{
 "cells": [
  {
   "cell_type": "code",
   "execution_count": 10,
   "metadata": {},
   "outputs": [],
   "source": [
    "from urllib.request import urlopen, Request\n",
    "import csv\n",
    "from bs4 import BeautifulSoup\n",
    "import pandas as pd\n",
    "\n",
    "from random import randint\n",
    "from time import sleep\n",
    "#pause for 20-100 seconds randomly\n",
    "sleep(randint(20,100))"
   ]
  },
  {
   "cell_type": "code",
   "execution_count": null,
   "metadata": {},
   "outputs": [],
   "source": [
    "metacritic_base = \"http://www.metacritic.com/browse/games/release-date/available/pc/metascore?view=detailed&page=\"\n",
    "hdr= {\"Accept\": \"text/html,application/xhtml+xml,application/xml;q=0.9,*/*;q=0.8\", \"User-Agent\" : \"Magic Browser\"}\n",
    "# filepath=’/Users/rra/Downloads/’\n",
    "for i in range(0,54):\n",
    "    metacritic = metacritic_base+str(i)\n",
    "    page = Request(metacritic, headers=hdr )\n",
    "    content = urlopen(page).read()"
   ]
  },
  {
   "cell_type": "code",
   "execution_count": null,
   "metadata": {},
   "outputs": [],
   "source": [
    "soup = BeautifulSoup(content, \"html.parser\")\n",
    "right_class=soup.find_all(\"div\", class_=\"product_wrap\")\n",
    "for item in right_class:\n",
    "    try:\n",
    "      link=item.find(\"h3\", class_=\"product_title\").find(\"a\")\n",
    "      g=link.get('href')\n",
    "      except: g=''\n",
    "      try:\n",
    "        score = item.find(\"span\", class_=\"metascore_w\")\n",
    "        s=score.text\n",
    "      except: s =\"\"\n",
    "      try:\n",
    "       dt = item.find(\"li\", class_=\"release_date\").find(\"span\",    class_=\"data\")\n",
    "       d=dt.text\n",
    "      except: dt=''\n",
    "     try:\n",
    "       rating=item.find(\"li\",class_=\"stat  maturity_rating\").find(\"span\", class_=\"data\")\n",
    "       r= rating.text\n",
    "     except: r=\"\"\n",
    "    try:\n",
    "      pub =item.find(\"li\",class_=\"stat publisher\").find(\"span\", class_=\"data\")\n",
    "      p= pub.text\n",
    "    except: p=''\n",
    "   \n",
    "   try:\n",
    "     genre= item.find(\"li\",class_=\"stat genre\").find(\"span\", class_=\"data\")\n",
    "     gr = genre.text\n",
    "   except: gr=''\n",
    "  try:\n",
    "   user_score=item.find(\"span\", class_=\"textscore\")\n",
    "   u = user_score.text\n",
    "   except: u=''"
   ]
  },
  {
   "cell_type": "code",
   "execution_count": null,
   "metadata": {},
   "outputs": [],
   "source": [
    "game=[g,s,d,r,p,gr.strip(),u]\n",
    "df = pd.DataFrame([game])\n",
    "with open('gamenames.csv', 'a') as f:\n",
    "   df.to_csv(f, header=False, index=False, quoting=csv.QUOTE_NONNUMERIC, sep=\"|\")"
   ]
  },
  {
   "cell_type": "code",
   "execution_count": null,
   "metadata": {},
   "outputs": [],
   "source": []
  }
 ],
 "metadata": {
  "kernelspec": {
   "display_name": "Python 3",
   "language": "python",
   "name": "python3"
  },
  "language_info": {
   "codemirror_mode": {
    "name": "ipython",
    "version": 3
   },
   "file_extension": ".py",
   "mimetype": "text/x-python",
   "name": "python",
   "nbconvert_exporter": "python",
   "pygments_lexer": "ipython3",
   "version": "3.8.3"
  }
 },
 "nbformat": 4,
 "nbformat_minor": 4
}
