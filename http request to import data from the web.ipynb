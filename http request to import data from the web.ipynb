{
 "cells": [
  {
   "cell_type": "code",
   "execution_count": 16,
   "metadata": {},
   "outputs": [],
   "source": [
    "# In other to import files from the web the urlretrive function is used from the url lib request\n",
    "\n",
    "from urllib.request import urlopen, Request\n",
    "\n",
    "url = \"https://www.wikipedia.org/\"\n",
    "\n",
    "request = Request(url)\n",
    "\n",
    "response = urlopen(request)\n",
    "\n",
    "html_text = response.read()\n",
    "\n",
    "response.close()\n",
    "\n",
    "# the request payload was gotten from the web through the urllib pkg"
   ]
  },
  {
   "cell_type": "code",
   "execution_count": 23,
   "metadata": {},
   "outputs": [],
   "source": [
    "# similar to the above would be perform but using the REQUEST pkg instead\n",
    "\n",
    "import requests\n",
    "\n",
    "request_url = \"https://www.wikipedia.org/\"\n",
    "\n",
    "request_response = requests.get(request_url)\n",
    "\n",
    "html_string = request_response.text\n"
   ]
  },
  {
   "cell_type": "code",
   "execution_count": 24,
   "metadata": {},
   "outputs": [
    {
     "data": {
      "text/plain": [
       "('winequality-white.csv', <http.client.HTTPMessage at 0x245b2f87520>)"
      ]
     },
     "execution_count": 24,
     "metadata": {},
     "output_type": "execute_result"
    }
   ],
   "source": [
    "# Automation of downloadable file using urlretrieve in urllib function\n",
    "\n",
    "from urllib.request import urlretrieve\n",
    "\n",
    "url = \"http://archive.ics.uci.edu/ml/machine-learning-databases/wine-quality/winequality-white.csv\"\n",
    "\n",
    "urlretrieve(url, 'winequality-white.csv')"
   ]
  },
  {
   "cell_type": "code",
   "execution_count": 35,
   "metadata": {},
   "outputs": [],
   "source": [
    "# HTML is mostly composed of unstructured texts, but contains tags where hidden can be finds like hyperlinks tags\n",
    "# so to turn html scraped from the www into useful data, it'll need to be parse for structured data to be extract from the HTML\n",
    "# using BeautifulSoup to parse and extract structured data from HTML \n",
    "# BEAUTIFULSOUP make soup beautiful and extract information from it\n",
    "\n",
    "from bs4 import BeautifulSoup\n",
    "\n",
    "url = \"http://www.crummy.com/software/BeautifulSoup\"\n",
    "\n",
    "r = requests.get(request_url)\n",
    "\n",
    "html_doc = r.text\n",
    "\n",
    "soup = BeautifulSoup(html_doc)\n"
   ]
  },
  {
   "cell_type": "code",
   "execution_count": null,
   "metadata": {},
   "outputs": [],
   "source": []
  }
 ],
 "metadata": {
  "kernelspec": {
   "display_name": "Python 3",
   "language": "python",
   "name": "python3"
  },
  "language_info": {
   "codemirror_mode": {
    "name": "ipython",
    "version": 3
   },
   "file_extension": ".py",
   "mimetype": "text/x-python",
   "name": "python",
   "nbconvert_exporter": "python",
   "pygments_lexer": "ipython3",
   "version": "3.8.3"
  }
 },
 "nbformat": 4,
 "nbformat_minor": 4
}
