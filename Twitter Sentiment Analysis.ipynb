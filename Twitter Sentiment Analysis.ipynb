{
 "cells": [
  {
   "cell_type": "markdown",
   "metadata": {},
   "source": [
    "#### We'll analyze some fictional tweets and find out whether the overall sentiment of Twitter users is happy or sad. This is a simplified version of an important real world problem called sentiment analysis.\n",
    "###### Before we begin, we need a list of tweets to analyze. We're picking a small number of tweets here, but the exact same analysis can also be done for thousands, or even millions of tweets. The collection of data that we perform analysis on is often called a dataset."
   ]
  },
  {
   "cell_type": "code",
   "execution_count": 2,
   "metadata": {},
   "outputs": [],
   "source": [
    "# this is a dataset of tweets we're to analysis here\n",
    "\n",
    "tweets = [\n",
    "    \"Wow, what a great day today!! #sunshine\",\n",
    "    \"I feel sad about the things going on around us. #covid19\",\n",
    "    \"I'm really excited to learn Python with @JovianML #zerotopandas\",\n",
    "    \"This is a really nice song. #linkinpark\",\n",
    "    \"The python programming language is useful for data science\",\n",
    "    \"Why do bad things happen to me?\",\n",
    "    \"Apple announces the release of the new iPhone 12. Fans are excited.\",\n",
    "    \"Spent my day with family!! #happy\",\n",
    "    \"Check out my blog post on common string operations in Python. #zerotopandas\",\n",
    "    \"Freecodecamp has great coding tutorials. #skillup\"\n",
    "]"
   ]
  },
  {
   "cell_type": "code",
   "execution_count": 28,
   "metadata": {},
   "outputs": [],
   "source": [
    "# Let's create two lists of words: happy_words and sad_words. We will use these to check if a tweet is happy or sad.\n",
    "\n",
    "happy_words = ['great', 'excited', 'happy', 'nice', 'wonderful', 'amazing', 'good', 'best']\n",
    "\n",
    "sad_words = ['sad', 'bad', 'tragic', 'unhappy', 'worst']"
   ]
  },
  {
   "cell_type": "code",
   "execution_count": 64,
   "metadata": {},
   "outputs": [
    {
     "name": "stdout",
     "output_type": "stream",
     "text": [
      "6\n",
      "2\n",
      "122\n"
     ]
    }
   ],
   "source": [
    "# To identify amount of tweet happy and sad, we can simply check if contains any of the words from happy_words or sad_words\n",
    "number_of_happy_tweets = 0\n",
    "\n",
    "number_of_sad_tweets = 0\n",
    "\n",
    "number_of_neutral_tweets = 0\n",
    "\n",
    "for tweet in tweets:\n",
    "    for h_word in happy_words:\n",
    "        if h_word in tweet:\n",
    "            number_of_happy_tweets += 1\n",
    "        else:\n",
    "            number_of_neutral_tweets += 1\n",
    "    for s_word in sad_words:\n",
    "            if s_word in tweet:\n",
    "                number_of_sad_tweets += 1\n",
    "                \n",
    "\n",
    "print(number_of_happy_tweets)\n",
    "\n",
    "print(number_of_sad_tweets)\n",
    "\n",
    "#         else:\n",
    "#             for s_word in sad_words:\n",
    "#                 if s_word in tweet:\n",
    "# #                     print('Sad')\n",
    "#                     print(tweet)\n",
    "#             print('Undefined')\n",
    "# # Get a word from happy_words\n",
    "# for word in happy_words:\n",
    "#     # Check if the tweet contains the word\n",
    "#     if word in sample_tweet:\n",
    "#         # Word found! Mark the tweet as happy\n",
    "#         is_tweet_happy = True"
   ]
  },
  {
   "cell_type": "code",
   "execution_count": 33,
   "metadata": {},
   "outputs": [
    {
     "name": "stdout",
     "output_type": "stream",
     "text": [
      "Wow, what a great day today!! #sunshine\n",
      "True\n",
      "I feel sad about the things going on around us. #covid19\n",
      "False\n",
      "I'm really excited to learn Python with @JovianML #zerotopandas\n",
      "False\n",
      "This is a really nice song. #linkinpark\n",
      "False\n",
      "The python programming language is useful for data science\n",
      "False\n",
      "Why do bad things happen to me?\n",
      "False\n",
      "Apple announces the release of the new iPhone 12. Fans are excited.\n",
      "False\n",
      "Spent my day with family!! #happy\n",
      "False\n",
      "Check out my blog post on common string operations in Python. #zerotopandas\n",
      "False\n",
      "Freecodecamp has great coding tutorials. #skillup\n",
      "True\n"
     ]
    }
   ],
   "source": [
    "# To identify amount of tweet happy and sad, we can simply check if contains any of the words from happy_words or sad_words\n",
    "\n",
    "number_of_happy_tweets = 0\n",
    "\n",
    "number_of_sad_tweets = 0\n",
    "\n",
    "def get_happy_tweet(tweet):\n",
    "    for word in happy_words:\n",
    "        if word in tweet:\n",
    "            print(tweet)\n",
    "            return True\n",
    "        else:\n",
    "            print(tweet)\n",
    "            return False\n",
    "            \n",
    "\n",
    "def get_sad_tweet(tweet):\n",
    "    for word in sad_words:\n",
    "        if word in tweet:\n",
    "            return True\n",
    "        else:\n",
    "            return False\n",
    "\n",
    "for tweet_data in tweets:\n",
    "    print(get_happy_tweet(tweet_data))"
   ]
  },
  {
   "cell_type": "code",
   "execution_count": null,
   "metadata": {},
   "outputs": [],
   "source": []
  }
 ],
 "metadata": {
  "kernelspec": {
   "display_name": "Python 3",
   "language": "python",
   "name": "python3"
  },
  "language_info": {
   "codemirror_mode": {
    "name": "ipython",
    "version": 3
   },
   "file_extension": ".py",
   "mimetype": "text/x-python",
   "name": "python",
   "nbconvert_exporter": "python",
   "pygments_lexer": "ipython3",
   "version": "3.8.3"
  }
 },
 "nbformat": 4,
 "nbformat_minor": 4
}
