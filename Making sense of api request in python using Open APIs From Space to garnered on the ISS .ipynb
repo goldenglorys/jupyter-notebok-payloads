{
 "cells": [
  {
   "cell_type": "code",
   "execution_count": 2,
   "metadata": {},
   "outputs": [],
   "source": [
    "import requests\n",
    "# Make a get request to get the latest position of the international space station from the opennotify api.\n",
    "response = requests.get(\"http://api.open-notify.org/iss-now.json\")"
   ]
  },
  {
   "cell_type": "code",
   "execution_count": 7,
   "metadata": {},
   "outputs": [
    {
     "data": {
      "text/plain": [
       "b'{\"timestamp\": 1598022548, \"message\": \"success\", \"iss_position\": {\"latitude\": \"49.1017\", \"longitude\": \"-106.9786\"}}'"
      ]
     },
     "execution_count": 7,
     "metadata": {},
     "output_type": "execute_result"
    }
   ],
   "source": [
    "response.content"
   ]
  },
  {
   "cell_type": "code",
   "execution_count": 14,
   "metadata": {},
   "outputs": [
    {
     "name": "stdout",
     "output_type": "stream",
     "text": [
      "{\n",
      "  \"message\": \"success\", \n",
      "  \"request\": {\n",
      "    \"altitude\": 100, \n",
      "    \"datetime\": 1598022949, \n",
      "    \"latitude\": 40.71, \n",
      "    \"longitude\": -74.0, \n",
      "    \"passes\": 5\n",
      "  }, \n",
      "  \"response\": [\n",
      "    {\n",
      "      \"duration\": 622, \n",
      "      \"risetime\": 1598034258\n",
      "    }, \n",
      "    {\n",
      "      \"duration\": 540, \n",
      "      \"risetime\": 1598088685\n",
      "    }, \n",
      "    {\n",
      "      \"duration\": 653, \n",
      "      \"risetime\": 1598094411\n",
      "    }\n",
      "  ]\n",
      "}\n",
      "\n"
     ]
    }
   ],
   "source": [
    "# Set up the parameters we want to pass to the API.\n",
    "# This is the latitude and longitude of New York City.\n",
    "parameters = {\"lat\": 40.71, \"lon\": -74}\n",
    "# Make a get request with the parameters.\n",
    "response1 = requests.get(\"http://api.open-notify.org/iss-pass.json\", params=parameters)\n",
    "# Print the content of the response (the data the server returned)\n",
    "decoded = response1.content.decode(\"utf-8\")\n",
    "print(decoded)"
   ]
  },
  {
   "cell_type": "code",
   "execution_count": 15,
   "metadata": {},
   "outputs": [
    {
     "data": {
      "text/plain": [
       "{'message': 'success',\n",
       " 'request': {'altitude': 100,\n",
       "  'datetime': 1598022949,\n",
       "  'latitude': 40.71,\n",
       "  'longitude': -74.0,\n",
       "  'passes': 5},\n",
       " 'response': [{'duration': 622, 'risetime': 1598034258},\n",
       "  {'duration': 540, 'risetime': 1598088685},\n",
       "  {'duration': 653, 'risetime': 1598094411}]}"
      ]
     },
     "execution_count": 15,
     "metadata": {},
     "output_type": "execute_result"
    }
   ],
   "source": [
    "get_json = response1.json()\n",
    "get_json"
   ]
  },
  {
   "cell_type": "code",
   "execution_count": 21,
   "metadata": {},
   "outputs": [
    {
     "name": "stdout",
     "output_type": "stream",
     "text": [
      "{'Server': 'nginx/1.10.3', 'Date': 'Fri, 21 Aug 2020 15:17:34 GMT', 'Content-Type': 'application/json', 'Content-Length': '385', 'Connection': 'keep-alive', 'Via': '1.1 vegur'}\n",
      "application/json\n"
     ]
    }
   ],
   "source": [
    "# the server a;so sends metadata containing information on how the data was generated\n",
    "# and how to decode it. This is stored in the response headers.\n",
    "print(response1.headers) \n",
    "print(response.headers[\"content-type\"])"
   ]
  },
  {
   "cell_type": "code",
   "execution_count": null,
   "metadata": {},
   "outputs": [],
   "source": [
    "# finding the number of people in space\n",
    "number_in_space_response = requests.get(\"http://api.open-notify.org/astros.json\")\n",
    "print(number_in_space_response.json()[\"number\"])"
   ]
  },
  {
   "cell_type": "code",
   "execution_count": null,
   "metadata": {},
   "outputs": [],
   "source": []
  }
 ],
 "metadata": {
  "kernelspec": {
   "display_name": "Python 3",
   "language": "python",
   "name": "python3"
  },
  "language_info": {
   "codemirror_mode": {
    "name": "ipython",
    "version": 3
   },
   "file_extension": ".py",
   "mimetype": "text/x-python",
   "name": "python",
   "nbconvert_exporter": "python",
   "pygments_lexer": "ipython3",
   "version": "3.8.3"
  }
 },
 "nbformat": 4,
 "nbformat_minor": 4
}
