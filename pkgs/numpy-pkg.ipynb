{
 "cells": [
  {
   "cell_type": "markdown",
   "metadata": {},
   "source": [
    "#### Numpy is like a MATRIX\n",
    "###### Numpy is like the normal python list but much more faster than the list\n",
    "###### Numpy may contain different types of data type from (list-tuple-set-dictionary) to the minimic type of string and sort but the when it core data is just numers it's power is fully unleashed"
   ]
  },
  {
   "cell_type": "code",
   "execution_count": 2,
   "metadata": {},
   "outputs": [],
   "source": [
    "import numpy as np"
   ]
  },
  {
   "cell_type": "code",
   "execution_count": 3,
   "metadata": {},
   "outputs": [],
   "source": [
    "np_list = np.array([1, 2, 3 ,4, 5, 6])"
   ]
  },
  {
   "cell_type": "code",
   "execution_count": 4,
   "metadata": {},
   "outputs": [],
   "source": [
    "np_tuple = np.array((1, 2, 3 ,4, 5, 6))"
   ]
  },
  {
   "cell_type": "code",
   "execution_count": 11,
   "metadata": {},
   "outputs": [
    {
     "name": "stdout",
     "output_type": "stream",
     "text": [
      "Type of list: <class 'numpy.ndarray'> and type of tuple: <class 'numpy.ndarray'>\n"
     ]
    }
   ],
   "source": [
    "print(\"Type of list:\", type(np_list), \"and type of tuple:\", type(np_tuple))"
   ]
  },
  {
   "cell_type": "markdown",
   "metadata": {},
   "source": [
    "###### Attributes and methods in each numpy object"
   ]
  },
  {
   "cell_type": "code",
   "execution_count": 18,
   "metadata": {},
   "outputs": [
    {
     "data": {
      "text/plain": [
       "dtype('int32')"
      ]
     },
     "execution_count": 18,
     "metadata": {},
     "output_type": "execute_result"
    }
   ],
   "source": [
    "np_list.dtype"
   ]
  },
  {
   "cell_type": "code",
   "execution_count": 16,
   "metadata": {},
   "outputs": [
    {
     "data": {
      "text/plain": [
       "dtype('int32')"
      ]
     },
     "execution_count": 16,
     "metadata": {},
     "output_type": "execute_result"
    }
   ],
   "source": [
    "np_tuple.dtype"
   ]
  },
  {
   "cell_type": "code",
   "execution_count": 21,
   "metadata": {},
   "outputs": [],
   "source": [
    "# data type can also be specified in time of definition if the type must be a specific type like float or int\n",
    "np_with_dtype = np.array([3, 4, 5], dtype='f')"
   ]
  },
  {
   "cell_type": "code",
   "execution_count": 22,
   "metadata": {},
   "outputs": [
    {
     "data": {
      "text/plain": [
       "dtype('float32')"
      ]
     },
     "execution_count": 22,
     "metadata": {},
     "output_type": "execute_result"
    }
   ],
   "source": [
    "np_with_dtype.dtype"
   ]
  },
  {
   "cell_type": "markdown",
   "metadata": {},
   "source": [
    "###### Numpy is multidimensional\n",
    "###### However, having multi-dimensional array, the number of element for each dimension should stay consistent"
   ]
  },
  {
   "cell_type": "code",
   "execution_count": 27,
   "metadata": {},
   "outputs": [
    {
     "name": "stdout",
     "output_type": "stream",
     "text": [
      "This array is 1D array\n"
     ]
    }
   ],
   "source": [
    "oneD_array = np.array([1, 2, 3])\n",
    "print(\"This array is\", str(oneD_array.ndim)+\"D array\")"
   ]
  },
  {
   "cell_type": "code",
   "execution_count": 39,
   "metadata": {},
   "outputs": [
    {
     "name": "stdout",
     "output_type": "stream",
     "text": [
      "This array is 2D array\n",
      "4\n"
     ]
    }
   ],
   "source": [
    "twoD_array = np.array([\n",
    "    [1, 2, 4],\n",
    "    [8, 16, 32]\n",
    "])\n",
    "print(\"This array is\", str(twoD_array.ndim)+\"D array\")\n",
    "\n",
    "# Accessing the index value in numpy multidimensional array example\n",
    "print(twoD_array[0,2])"
   ]
  },
  {
   "cell_type": "code",
   "execution_count": 36,
   "metadata": {},
   "outputs": [
    {
     "name": "stdout",
     "output_type": "stream",
     "text": [
      "This array is 3D array\n",
      "1\n"
     ]
    }
   ],
   "source": [
    "threeD_array = np.array([\n",
    "    [\n",
    "      [1, 2, 4],\n",
    "      [8, 16, 32]   \n",
    "    ],\n",
    "    [\n",
    "      [1, 2, 4],\n",
    "      [8, 16, 32]   \n",
    "    ]\n",
    "])\n",
    "print(\"This array is\", str(threeD_array.ndim)+\"D array\")\n",
    "\n",
    "# Accessing the index value in numpy multidimensional array example\n",
    "print(threeD_array[0, 0, 0])"
   ]
  },
  {
   "cell_type": "code",
   "execution_count": 45,
   "metadata": {},
   "outputs": [
    {
     "name": "stdout",
     "output_type": "stream",
     "text": [
      "1D array shape: [1 2 3]\n",
      "2D array shape: (2, 3)\n",
      "3D array shape: (2, 2, 3)\n"
     ]
    }
   ],
   "source": [
    "# The above 3D array contains 2 array of 2D and each 2D array contains 2 1D array and each 1D array contains 3 elements\n",
    "# Basically shape attribute in numpy help get these frequencies\n",
    "\n",
    "print(\"1D array shape:\", oneD_array)\n",
    "print(\"2D array shape:\",twoD_array.shape)\n",
    "print(\"3D array shape:\",threeD_array.shape)"
   ]
  },
  {
   "cell_type": "code",
   "execution_count": 53,
   "metadata": {},
   "outputs": [
    {
     "name": "stdout",
     "output_type": "stream",
     "text": [
      "A typical 3D array contains 2 2D array\n",
      "2 1D array, and\n",
      "each 1D array contains 3 elements\n"
     ]
    }
   ],
   "source": [
    "print(f\"\"\"A typical 3D array contains {threeD_array.shape[0]} 2D array\n",
    "{threeD_array.shape[1]} 1D array, and\n",
    "each 1D array contains {threeD_array.shape[2]} elements\"\"\")"
   ]
  },
  {
   "cell_type": "code",
   "execution_count": 57,
   "metadata": {},
   "outputs": [
    {
     "name": "stdout",
     "output_type": "stream",
     "text": [
      "A is a 1D array\n"
     ]
    }
   ],
   "source": [
    "A = np.array([2])\n",
    "print(f\"A is a {A.ndim}D array\")"
   ]
  },
  {
   "cell_type": "code",
   "execution_count": 61,
   "metadata": {},
   "outputs": [
    {
     "name": "stdout",
     "output_type": "stream",
     "text": [
      "B is a 0D array\n"
     ]
    }
   ],
   "source": [
    "B = np.array(8)\n",
    "print(f\"B is a {B.ndim}D array\")"
   ]
  },
  {
   "cell_type": "code",
   "execution_count": 68,
   "metadata": {},
   "outputs": [
    {
     "name": "stdout",
     "output_type": "stream",
     "text": [
      "The above 3D array contains 12 elements\n",
      "It also contains 48 bytes of space memory\n"
     ]
    }
   ],
   "source": [
    "print(\"The above 3D array contains\", threeD_array.size, \"elements\")\n",
    "print(\"It also contains\", threeD_array.nbytes, \"bytes of space memory\")"
   ]
  },
  {
   "cell_type": "markdown",
   "metadata": {},
   "source": [
    "###### Numpy contains differnt kinds of useful properties & functions...play around with it and practise (press tab after the dot to get the list of properties numpy contains) "
   ]
  },
  {
   "cell_type": "code",
   "execution_count": 77,
   "metadata": {},
   "outputs": [
    {
     "data": {
      "text/plain": [
       "array([0., 0., 0.])"
      ]
     },
     "execution_count": 77,
     "metadata": {},
     "output_type": "execute_result"
    }
   ],
   "source": [
    "# Numpy provides many ways to generate raw data coupled up in an array\n",
    "\n",
    "np.zeros(3) # THIS GENERATE ZEROS DATA-SET AND BUNDLED UP IN AN ARRAY TO THE LENGTH THAT IS GIVEN"
   ]
  },
  {
   "cell_type": "code",
   "execution_count": 80,
   "metadata": {},
   "outputs": [
    {
     "data": {
      "text/plain": [
       "array([1., 1., 1., 1., 1.])"
      ]
     },
     "execution_count": 80,
     "metadata": {},
     "output_type": "execute_result"
    }
   ],
   "source": [
    "np.ones(5) # THIS GENERATE ONES DATA-SET AND BUNDLED UP IN AN ARRAY TO THE LENGTH THAT IS GIVEN"
   ]
  },
  {
   "cell_type": "code",
   "execution_count": 84,
   "metadata": {},
   "outputs": [
    {
     "data": {
      "text/plain": [
       "array([ 0,  1,  2,  3,  4,  5,  6,  7,  8,  9, 10, 11, 12, 13, 14, 15, 16,\n",
       "       17, 18, 19, 20, 21, 22, 23, 24, 25, 26, 27, 28, 29, 30, 31, 32, 33,\n",
       "       34, 35, 36, 37, 38, 39, 40, 41, 42, 43, 44, 45, 46, 47, 48, 49, 50,\n",
       "       51, 52, 53, 54, 55, 56, 57, 58, 59, 60, 61, 62, 63, 64, 65, 66, 67,\n",
       "       68, 69, 70, 71, 72, 73, 74, 75, 76, 77, 78, 79, 80, 81, 82, 83, 84,\n",
       "       85, 86, 87, 88, 89, 90, 91, 92, 93, 94, 95, 96, 97, 98, 99])"
      ]
     },
     "execution_count": 84,
     "metadata": {},
     "output_type": "execute_result"
    }
   ],
   "source": [
    "np.arange(100) # THIS GENERATE DATA-SET FROM A GIVEN STARTING POSITION TO IT END...IT START AT 0 WHEN A STARTING POS IS MISSING"
   ]
  },
  {
   "cell_type": "code",
   "execution_count": 115,
   "metadata": {},
   "outputs": [
    {
     "name": "stdout",
     "output_type": "stream",
     "text": [
      "[10 20 30 40 50 60 70 80 90]\n",
      "12.96875\n"
     ]
    }
   ],
   "source": [
    "import time\n",
    "print(np.arange(10, 100, 10)) # ARANGE ALSO ALLOW TO MAKE A JUMP OF ANY NUMBER TILL THE GENERATION COMPLETE\n",
    "print(time.process_time())"
   ]
  },
  {
   "cell_type": "markdown",
   "metadata": {},
   "source": [
    "###### The numpy is similar to the mainstream python range iterator function and here is a comparision between the both and processing time"
   ]
  },
  {
   "cell_type": "code",
   "execution_count": 114,
   "metadata": {},
   "outputs": [
    {
     "name": "stdout",
     "output_type": "stream",
     "text": [
      "[10, 20, 30, 40, 50, 60, 70, 80, 90]\n",
      "12.9375\n"
     ]
    }
   ],
   "source": [
    "print(list(range(10, 100, 10)))\n",
    "print(time.process_time())"
   ]
  },
  {
   "cell_type": "code",
   "execution_count": 123,
   "metadata": {},
   "outputs": [
    {
     "name": "stdout",
     "output_type": "stream",
     "text": [
      "[7 0 6 9 5 3 4 8 2 1]\n"
     ]
    }
   ],
   "source": [
    "print(np.random.permutation(np.arange(10))) # THIS PERMUTATE VALUES ON A RANDOM BASICS"
   ]
  },
  {
   "cell_type": "code",
   "execution_count": 129,
   "metadata": {},
   "outputs": [
    {
     "data": {
      "text/plain": [
       "24"
      ]
     },
     "execution_count": 129,
     "metadata": {},
     "output_type": "execute_result"
    }
   ],
   "source": [
    "np.random.randint(20, 25) # GENERATE SOME RANDOM VAL BETWEEN THE GIVEN ARGS"
   ]
  },
  {
   "cell_type": "markdown",
   "metadata": {},
   "source": [
    "###### A reshape function in numpy (A.reshape(2,5) take like a array with 10 elements and reshape it to a 2D array with 5 elements each like a matrix of 2 rows 5 colums"
   ]
  },
  {
   "cell_type": "code",
   "execution_count": 148,
   "metadata": {},
   "outputs": [],
   "source": [
    "A = np.random.randn(1000)"
   ]
  },
  {
   "cell_type": "code",
   "execution_count": 135,
   "metadata": {},
   "outputs": [],
   "source": [
    "import matplotlib.pyplot as plt"
   ]
  },
  {
   "cell_type": "code",
   "execution_count": 149,
   "metadata": {},
   "outputs": [
    {
     "data": {
      "text/plain": [
       "(array([ 1.,  0.,  0.,  0.,  3.,  0.,  0.,  2.,  2.,  0.,  0.,  1.,  2.,\n",
       "         0.,  1.,  3.,  2.,  2.,  6.,  6.,  2.,  6.,  5.,  3.,  4.,  4.,\n",
       "         7.,  9., 10., 13., 13.,  8., 13., 16., 12., 19., 22., 22., 25.,\n",
       "        15., 15., 17., 29., 22., 23., 23., 14., 22., 25., 25., 30., 20.,\n",
       "        27., 22., 20., 19., 23., 19., 22., 28., 25., 26., 19., 21., 22.,\n",
       "        20., 13., 11., 15., 10., 14., 10., 11.,  6.,  5.,  6.,  5.,  8.,\n",
       "         4.,  4.,  5.,  3.,  4.,  8.,  2.,  4.,  2.,  1.,  4.,  2.,  1.,\n",
       "         0.,  1.,  2.,  0.,  0.,  0.,  1.,  0.,  1.]),\n",
       " array([-3.30919504, -3.24469843, -3.18020182, -3.11570522, -3.05120861,\n",
       "        -2.986712  , -2.9222154 , -2.85771879, -2.79322218, -2.72872557,\n",
       "        -2.66422897, -2.59973236, -2.53523575, -2.47073914, -2.40624254,\n",
       "        -2.34174593, -2.27724932, -2.21275272, -2.14825611, -2.0837595 ,\n",
       "        -2.01926289, -1.95476629, -1.89026968, -1.82577307, -1.76127646,\n",
       "        -1.69677986, -1.63228325, -1.56778664, -1.50329004, -1.43879343,\n",
       "        -1.37429682, -1.30980021, -1.24530361, -1.180807  , -1.11631039,\n",
       "        -1.05181378, -0.98731718, -0.92282057, -0.85832396, -0.79382736,\n",
       "        -0.72933075, -0.66483414, -0.60033753, -0.53584093, -0.47134432,\n",
       "        -0.40684771, -0.3423511 , -0.2778545 , -0.21335789, -0.14886128,\n",
       "        -0.08436468, -0.01986807,  0.04462854,  0.10912515,  0.17362175,\n",
       "         0.23811836,  0.30261497,  0.36711158,  0.43160818,  0.49610479,\n",
       "         0.5606014 ,  0.625098  ,  0.68959461,  0.75409122,  0.81858783,\n",
       "         0.88308443,  0.94758104,  1.01207765,  1.07657426,  1.14107086,\n",
       "         1.20556747,  1.27006408,  1.33456068,  1.39905729,  1.4635539 ,\n",
       "         1.52805051,  1.59254711,  1.65704372,  1.72154033,  1.78603694,\n",
       "         1.85053354,  1.91503015,  1.97952676,  2.04402336,  2.10851997,\n",
       "         2.17301658,  2.23751319,  2.30200979,  2.3665064 ,  2.43100301,\n",
       "         2.49549962,  2.55999622,  2.62449283,  2.68898944,  2.75348604,\n",
       "         2.81798265,  2.88247926,  2.94697587,  3.01147247,  3.07596908,\n",
       "         3.14046569]),\n",
       " <a list of 100 Patch objects>)"
      ]
     },
     "execution_count": 149,
     "metadata": {},
     "output_type": "execute_result"
    },
    {
     "data": {
      "image/png": "[encoded data removed]",
      "text/plain": [
       "<Figure size 432x288 with 1 Axes>"
      ]
     },
     "metadata": {
      "needs_background": "light"
     },
     "output_type": "display_data"
    }
   ],
   "source": [
    "plt.hist(A, bins=100)"
   ]
  },
  {
   "cell_type": "code",
   "execution_count": 142,
   "metadata": {},
   "outputs": [],
   "source": [
    "B = np.random.randn(10000)"
   ]
  },
  {
   "cell_type": "code",
   "execution_count": 143,
   "metadata": {},
   "outputs": [
    {
     "data": {
      "text/plain": [
       "(array([  1.,   0.,   0.,   0.,   0.,   1.,   0.,   1.,   0.,   1.,   2.,\n",
       "          0.,   0.,   1.,   1.,   2.,   3.,   1.,   0.,   1.,   5.,   1.,\n",
       "          2.,   2.,   6.,   5.,   6.,   3.,   5.,   6.,   6.,   5.,  17.,\n",
       "         10.,  12.,  14.,  13.,  12.,  13.,   8.,  13.,  11.,  16.,  20.,\n",
       "         16.,  19.,  21.,  19.,  25.,  31.,  26.,  37.,  33.,  37.,  38.,\n",
       "         50.,  48.,  25.,  64.,  53.,  41.,  53.,  59.,  65.,  78.,  74.,\n",
       "         83.,  69.,  77.,  66.,  83.,  87.,  86., 106., 103., 100., 103.,\n",
       "         97., 109., 111., 100.,  97., 123., 123., 114.,  96., 122., 132.,\n",
       "        121., 133., 146., 128., 151., 147., 145., 149., 127., 167., 161.,\n",
       "        130., 150., 146., 138., 148., 146., 131., 144., 141., 133., 126.,\n",
       "        147., 129., 123., 132., 133., 121., 110., 115., 114., 103., 106.,\n",
       "        114., 102.,  94.,  90., 100., 106.,  85.,  80.,  88.,  85.,  63.,\n",
       "         74.,  59.,  73.,  70.,  60.,  59.,  50.,  51.,  45.,  48.,  50.,\n",
       "         41.,  40.,  35.,  28.,  35.,  25.,  19.,  32.,  25.,  15.,  26.,\n",
       "         22.,  19.,  18.,  22.,  22.,  12.,   6.,  10.,  11.,   9.,  12.,\n",
       "          9.,  10.,  12.,   6.,   7.,   7.,   6.,   6.,   4.,   4.,   6.,\n",
       "          2.,   1.,   1.,   3.,   0.,   2.,   1.,   2.,   0.,   4.,   2.,\n",
       "          1.,   1.,   2.,   2.,   0.,   0.,   0.,   1.,   0.,   0.,   0.,\n",
       "          1.,   1.]),\n",
       " array([-3.58388447, -3.54790064, -3.51191681, -3.47593299, -3.43994916,\n",
       "        -3.40396533, -3.36798151, -3.33199768, -3.29601385, -3.26003003,\n",
       "        -3.2240462 , -3.18806237, -3.15207855, -3.11609472, -3.08011089,\n",
       "        -3.04412707, -3.00814324, -2.97215941, -2.93617559, -2.90019176,\n",
       "        -2.86420793, -2.82822411, -2.79224028, -2.75625645, -2.72027263,\n",
       "        -2.6842888 , -2.64830497, -2.61232115, -2.57633732, -2.54035349,\n",
       "        -2.50436967, -2.46838584, -2.43240201, -2.39641819, -2.36043436,\n",
       "        -2.32445053, -2.28846671, -2.25248288, -2.21649905, -2.18051523,\n",
       "        -2.1445314 , -2.10854757, -2.07256375, -2.03657992, -2.00059609,\n",
       "        -1.96461227, -1.92862844, -1.89264461, -1.85666079, -1.82067696,\n",
       "        -1.78469313, -1.74870931, -1.71272548, -1.67674165, -1.64075783,\n",
       "        -1.604774  , -1.56879017, -1.53280635, -1.49682252, -1.46083869,\n",
       "        -1.42485487, -1.38887104, -1.35288721, -1.31690339, -1.28091956,\n",
       "        -1.24493573, -1.20895191, -1.17296808, -1.13698425, -1.10100043,\n",
       "        -1.0650166 , -1.02903277, -0.99304895, -0.95706512, -0.92108129,\n",
       "        -0.88509747, -0.84911364, -0.81312981, -0.77714599, -0.74116216,\n",
       "        -0.70517833, -0.66919451, -0.63321068, -0.59722685, -0.56124303,\n",
       "        -0.5252592 , -0.48927537, -0.45329155, -0.41730772, -0.38132389,\n",
       "        -0.34534007, -0.30935624, -0.27337241, -0.23738859, -0.20140476,\n",
       "        -0.16542093, -0.12943711, -0.09345328, -0.05746945, -0.02148563,\n",
       "         0.0144982 ,  0.05048203,  0.08646585,  0.12244968,  0.15843351,\n",
       "         0.19441733,  0.23040116,  0.26638499,  0.30236881,  0.33835264,\n",
       "         0.37433647,  0.41032029,  0.44630412,  0.48228795,  0.51827177,\n",
       "         0.5542556 ,  0.59023943,  0.62622325,  0.66220708,  0.69819091,\n",
       "         0.73417473,  0.77015856,  0.80614239,  0.84212621,  0.87811004,\n",
       "         0.91409387,  0.95007769,  0.98606152,  1.02204535,  1.05802917,\n",
       "         1.094013  ,  1.12999683,  1.16598065,  1.20196448,  1.23794831,\n",
       "         1.27393213,  1.30991596,  1.34589979,  1.38188361,  1.41786744,\n",
       "         1.45385127,  1.4898351 ,  1.52581892,  1.56180275,  1.59778658,\n",
       "         1.6337704 ,  1.66975423,  1.70573806,  1.74172188,  1.77770571,\n",
       "         1.81368954,  1.84967336,  1.88565719,  1.92164102,  1.95762484,\n",
       "         1.99360867,  2.0295925 ,  2.06557632,  2.10156015,  2.13754398,\n",
       "         2.1735278 ,  2.20951163,  2.24549546,  2.28147928,  2.31746311,\n",
       "         2.35344694,  2.38943076,  2.42541459,  2.46139842,  2.49738224,\n",
       "         2.53336607,  2.5693499 ,  2.60533372,  2.64131755,  2.67730138,\n",
       "         2.7132852 ,  2.74926903,  2.78525286,  2.82123668,  2.85722051,\n",
       "         2.89320434,  2.92918816,  2.96517199,  3.00115582,  3.03713964,\n",
       "         3.07312347,  3.1091073 ,  3.14509112,  3.18107495,  3.21705878,\n",
       "         3.2530426 ,  3.28902643,  3.32501026,  3.36099408,  3.39697791,\n",
       "         3.43296174,  3.46894556,  3.50492939,  3.54091322,  3.57689704,\n",
       "         3.61288087]),\n",
       " <a list of 200 Patch objects>)"
      ]
     },
     "execution_count": 143,
     "metadata": {},
     "output_type": "execute_result"
    },
    {
     "data": {
      "image/png": "[encoded data removed]",
      "text/plain": [
       "<Figure size 432x288 with 1 Axes>"
      ]
     },
     "metadata": {
      "needs_background": "light"
     },
     "output_type": "display_data"
    }
   ],
   "source": [
    "plt.hist(B, bins=200)"
   ]
  },
  {
   "cell_type": "code",
   "execution_count": 150,
   "metadata": {},
   "outputs": [],
   "source": [
    "# CREATING A 2 BY 3 RANDOM MATRIX ARRAY\n",
    "\n",
    "C = np.random.rand(2, 3)"
   ]
  },
  {
   "cell_type": "code",
   "execution_count": 151,
   "metadata": {},
   "outputs": [
    {
     "data": {
      "text/plain": [
       "array([[0.34258689, 0.5334332 , 0.75511003],\n",
       "       [0.66663679, 0.73407758, 0.97042959]])"
      ]
     },
     "execution_count": 151,
     "metadata": {},
     "output_type": "execute_result"
    }
   ],
   "source": [
    "C"
   ]
  },
  {
   "cell_type": "markdown",
   "metadata": {},
   "source": [
    "###### Doing Linear Algebra in Numpy and it has a lot of functions to compute algebraic structure with python numby"
   ]
  },
  {
   "cell_type": "code",
   "execution_count": 1,
   "metadata": {},
   "outputs": [],
   "source": [
    "import numpy.linalg as la"
   ]
  },
  {
   "cell_type": "code",
   "execution_count": 4,
   "metadata": {},
   "outputs": [
    {
     "data": {
      "text/plain": [
       "array([[  681.87301938,  1717.69632608, -2450.02655206],\n",
       "       [ -219.81553459,  -557.85539314,   795.44448833],\n",
       "       [ -656.60301579, -1649.91798517,  2355.51376721]])"
      ]
     },
     "execution_count": 4,
     "metadata": {},
     "output_type": "execute_result"
    }
   ],
   "source": [
    "la.inv(np.random.rand(3, 3))"
   ]
  },
  {
   "cell_type": "code",
   "execution_count": null,
   "metadata": {},
   "outputs": [],
   "source": []
  }
 ],
 "metadata": {
  "kernelspec": {
   "display_name": "Python 3",
   "language": "python",
   "name": "python3"
  },
  "language_info": {
   "codemirror_mode": {
    "name": "ipython",
    "version": 3
   },
   "file_extension": ".py",
   "mimetype": "text/x-python",
   "name": "python",
   "nbconvert_exporter": "python",
   "pygments_lexer": "ipython3",
   "version": "3.8.3"
  }
 },
 "nbformat": 4,
 "nbformat_minor": 4
}
