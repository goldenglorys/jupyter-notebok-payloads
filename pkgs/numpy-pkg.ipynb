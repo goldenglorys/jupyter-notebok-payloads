{
 "cells": [
  {
   "cell_type": "markdown",
   "metadata": {},
   "source": [
    "###### Numpy is like the normal python list but much more faster than the list\n",
    "###### Numpy may contain different types of data type from (list-tuple-set-dictionary) to the minimic type of string and sort but the when it core data is just numers it's power is fully unleashed"
   ]
  },
  {
   "cell_type": "code",
   "execution_count": 1,
   "metadata": {},
   "outputs": [],
   "source": [
    "import numpy as np"
   ]
  },
  {
   "cell_type": "code",
   "execution_count": 3,
   "metadata": {},
   "outputs": [],
   "source": [
    "np_list = np.array([1, 2, 3 ,4, 5, 6])"
   ]
  },
  {
   "cell_type": "code",
   "execution_count": 4,
   "metadata": {},
   "outputs": [],
   "source": [
    "np_tuple = np.array((1, 2, 3 ,4, 5, 6))"
   ]
  },
  {
   "cell_type": "code",
   "execution_count": 11,
   "metadata": {},
   "outputs": [
    {
     "name": "stdout",
     "output_type": "stream",
     "text": [
      "Type of list: <class 'numpy.ndarray'> and type of tuple: <class 'numpy.ndarray'>\n"
     ]
    }
   ],
   "source": [
    "print(\"Type of list:\", type(np_list), \"and type of tuple:\", type(np_tuple))"
   ]
  },
  {
   "cell_type": "markdown",
   "metadata": {},
   "source": [
    "###### Attributes and methods in each numpy object"
   ]
  },
  {
   "cell_type": "code",
   "execution_count": 18,
   "metadata": {},
   "outputs": [
    {
     "data": {
      "text/plain": [
       "dtype('int32')"
      ]
     },
     "execution_count": 18,
     "metadata": {},
     "output_type": "execute_result"
    }
   ],
   "source": [
    "np_list.dtype"
   ]
  },
  {
   "cell_type": "code",
   "execution_count": 16,
   "metadata": {},
   "outputs": [
    {
     "data": {
      "text/plain": [
       "dtype('int32')"
      ]
     },
     "execution_count": 16,
     "metadata": {},
     "output_type": "execute_result"
    }
   ],
   "source": [
    "np_tuple.dtype"
   ]
  },
  {
   "cell_type": "code",
   "execution_count": 21,
   "metadata": {},
   "outputs": [],
   "source": [
    "# data type can also be specified in time of definition if the type must be a specific type like float or int\n",
    "np_with_dtype = np.array([3, 4, 5], dtype='f')"
   ]
  },
  {
   "cell_type": "code",
   "execution_count": 22,
   "metadata": {},
   "outputs": [
    {
     "data": {
      "text/plain": [
       "dtype('float32')"
      ]
     },
     "execution_count": 22,
     "metadata": {},
     "output_type": "execute_result"
    }
   ],
   "source": [
    "np_with_dtype.dtype"
   ]
  },
  {
   "cell_type": "markdown",
   "metadata": {},
   "source": [
    "###### Numpy is multidimensional\n",
    "###### However, having multi-dimensional array, the number of element for each dimension should stay consistent"
   ]
  },
  {
   "cell_type": "code",
   "execution_count": 27,
   "metadata": {},
   "outputs": [
    {
     "name": "stdout",
     "output_type": "stream",
     "text": [
      "This array is 1D array\n"
     ]
    }
   ],
   "source": [
    "oneD_array = np.array([1, 2, 3])\n",
    "print(\"This array is\", str(oneD_array.ndim)+\"D array\")"
   ]
  },
  {
   "cell_type": "code",
   "execution_count": 39,
   "metadata": {},
   "outputs": [
    {
     "name": "stdout",
     "output_type": "stream",
     "text": [
      "This array is 2D array\n",
      "4\n"
     ]
    }
   ],
   "source": [
    "twoD_array = np.array([\n",
    "    [1, 2, 4],\n",
    "    [8, 16, 32]\n",
    "])\n",
    "print(\"This array is\", str(twoD_array.ndim)+\"D array\")\n",
    "\n",
    "# Accessing the index value in numpy multidimensional array example\n",
    "print(twoD_array[0,2])"
   ]
  },
  {
   "cell_type": "code",
   "execution_count": 36,
   "metadata": {},
   "outputs": [
    {
     "name": "stdout",
     "output_type": "stream",
     "text": [
      "This array is 3D array\n",
      "1\n"
     ]
    }
   ],
   "source": [
    "threeD_array = np.array([\n",
    "    [\n",
    "      [1, 2, 4],\n",
    "      [8, 16, 32]   \n",
    "    ],\n",
    "    [\n",
    "      [1, 2, 4],\n",
    "      [8, 16, 32]   \n",
    "    ]\n",
    "])\n",
    "print(\"This array is\", str(threeD_array.ndim)+\"D array\")\n",
    "\n",
    "# Accessing the index value in numpy multidimensional array example\n",
    "print(threeD_array[0, 0, 0])"
   ]
  },
  {
   "cell_type": "code",
   "execution_count": null,
   "metadata": {},
   "outputs": [],
   "source": []
  }
 ],
 "metadata": {
  "kernelspec": {
   "display_name": "Python 3",
   "language": "python",
   "name": "python3"
  },
  "language_info": {
   "codemirror_mode": {
    "name": "ipython",
    "version": 3
   },
   "file_extension": ".py",
   "mimetype": "text/x-python",
   "name": "python",
   "nbconvert_exporter": "python",
   "pygments_lexer": "ipython3",
   "version": "3.8.3"
  }
 },
 "nbformat": 4,
 "nbformat_minor": 4
}
