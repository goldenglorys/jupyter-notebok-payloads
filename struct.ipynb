{
 "cells": [
  {
   "cell_type": "code",
   "execution_count": 1,
   "metadata": {},
   "outputs": [
    {
     "name": "stdout",
     "output_type": "stream",
     "text": [
      "b'\\x06\\x00\\x00\\x00\\x13\\x00\\x00\\x00)\\\\\\x97@'\n"
     ]
    }
   ],
   "source": [
    "from struct import *\n",
    "\n",
    "# Store raw data as bytes data (bytes are form being sent when transferring over the internent)\n",
    "packed_data = pack('iif', 6, 19, 4.73)\n",
    "print(packed_data)"
   ]
  },
  {
   "cell_type": "code",
   "execution_count": 4,
   "metadata": {},
   "outputs": [
    {
     "name": "stdout",
     "output_type": "stream",
     "text": [
      "One integer takes 4 bytes\n",
      "One float number takes 4 bytes\n",
      "Two integer and a float takes 12 bytes\n"
     ]
    }
   ],
   "source": [
    "print('One integer takes', calcsize('i'), 'bytes')\n",
    "print('One float number takes',calcsize('f'), 'bytes')\n",
    "print('Two integer and a float takes', calcsize('iif'), 'bytes')"
   ]
  },
  {
   "cell_type": "code",
   "execution_count": 6,
   "metadata": {},
   "outputs": [
    {
     "name": "stdout",
     "output_type": "stream",
     "text": [
      "(6, 19, 4.730000019073486)\n"
     ]
    }
   ],
   "source": [
    "# To get buytes data back to normal\n",
    "\n",
    "original_data = unpack('iif', packed_data)\n",
    "print(original_data)"
   ]
  },
  {
   "cell_type": "code",
   "execution_count": 11,
   "metadata": {},
   "outputs": [
    {
     "name": "stdout",
     "output_type": "stream",
     "text": [
      "(6, 19, 4.730000019073486)\n"
     ]
    }
   ],
   "source": [
    "print(unpack('iif', b'\\x06\\x00\\x00\\x00\\x13\\x00\\x00\\x00)\\\\\\x97@'))"
   ]
  },
  {
   "cell_type": "code",
   "execution_count": null,
   "metadata": {},
   "outputs": [],
   "source": []
  }
 ],
 "metadata": {
  "kernelspec": {
   "display_name": "Python 3",
   "language": "python",
   "name": "python3"
  },
  "language_info": {
   "codemirror_mode": {
    "name": "ipython",
    "version": 3
   },
   "file_extension": ".py",
   "mimetype": "text/x-python",
   "name": "python",
   "nbconvert_exporter": "python",
   "pygments_lexer": "ipython3",
   "version": "3.8.3"
  }
 },
 "nbformat": 4,
 "nbformat_minor": 4
}
