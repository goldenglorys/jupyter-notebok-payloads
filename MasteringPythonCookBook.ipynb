{
 "cells": [
  {
   "cell_type": "markdown",
   "metadata": {},
   "source": [
    "#### Data Structure"
   ]
  },
  {
   "cell_type": "code",
   "execution_count": 9,
   "metadata": {},
   "outputs": [],
   "source": [
    "L = [1, 2, 3 ,4, 5]\n",
    "T = (1, 2, 3, 4, 5)\n",
    "S = {\"one\", \"two\", 3, \"four\", 5}\n",
    "D = {\"one\": \"1\", \"two\": \"2\", \"three\": \"3\", \"four\": \"4\", \"five\": \"5\"}"
   ]
  },
  {
   "cell_type": "code",
   "execution_count": 2,
   "metadata": {},
   "outputs": [
    {
     "name": "stdout",
     "output_type": "stream",
     "text": [
      "The type of L is  <class 'list'>\n",
      "The type of L is  <class 'tuple'>\n",
      "The type of L is  <class 'set'>\n",
      "The type of L is  <class 'dict'>\n"
     ]
    }
   ],
   "source": [
    "print(\"The type of L is \", type(L))\n",
    "print(\"The type of L is \", type(T))\n",
    "print(\"The type of L is \", type(S))\n",
    "print(\"The type of L is \", type(D))"
   ]
  },
  {
   "cell_type": "code",
   "execution_count": 18,
   "metadata": {},
   "outputs": [
    {
     "name": "stdout",
     "output_type": "stream",
     "text": [
      "List index one is  1\n",
      "Tuple index one is  1\n",
      "True\n",
      "1\n"
     ]
    }
   ],
   "source": [
    "# accessing a particular index in those data structure\n",
    "print(\"List index one is \", L[0])\n",
    "print(\"Tuple index one is \", T[0])\n",
    "print(3 in S)\n",
    "print(D['one'])\n",
    "# print(\"SET: \")\n",
    "# for x in S:\n",
    "#     print(x)\n",
    "# print(\"DICTIONARY\")\n",
    "# for x in D:\n",
    "#     print(x)"
   ]
  },
  {
   "cell_type": "markdown",
   "metadata": {},
   "source": [
    "###### Doing a slicing in Python list get a copy of those index value but it get a memory reference in numpy python package"
   ]
  },
  {
   "cell_type": "code",
   "execution_count": null,
   "metadata": {},
   "outputs": [],
   "source": []
  }
 ],
 "metadata": {
  "kernelspec": {
   "display_name": "Python 3",
   "language": "python",
   "name": "python3"
  },
  "language_info": {
   "codemirror_mode": {
    "name": "ipython",
    "version": 3
   },
   "file_extension": ".py",
   "mimetype": "text/x-python",
   "name": "python",
   "nbconvert_exporter": "python",
   "pygments_lexer": "ipython3",
   "version": "3.8.3"
  }
 },
 "nbformat": 4,
 "nbformat_minor": 4
}
