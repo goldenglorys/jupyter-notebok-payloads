{
 "cells": [
  {
   "cell_type": "code",
   "execution_count": 29,
   "metadata": {},
   "outputs": [],
   "source": [
    "def findMin(L):\n",
    "    \"\"\"A reusable function that find and return the minimium value in a given set of number list\n",
    "    Parameter: list : [2,4,0]\n",
    "    Example: findMin(list)\n",
    "    \"\"\"\n",
    "    m = L[0]\n",
    "    index = 0\n",
    "    i = 0\n",
    "    for x in L:\n",
    "        if x < m:\n",
    "            m = x\n",
    "            index = i\n",
    "        else:\n",
    "            pass\n",
    "        i += 1\n",
    "    return \"Minimum value is: \" + str(m), \"& it index is: \" + str(index)"
   ]
  },
  {
   "cell_type": "code",
   "execution_count": 24,
   "metadata": {},
   "outputs": [
    {
     "name": "stdout",
     "output_type": "stream",
     "text": [
      "('Minimum value is: 0', '& it index is: 2')\n"
     ]
    }
   ],
   "source": [
    "# this print a return value of tuples\n",
    "print(findMin([2, 4, 0, 8]))"
   ]
  },
  {
   "cell_type": "code",
   "execution_count": 25,
   "metadata": {},
   "outputs": [
    {
     "name": "stdout",
     "output_type": "stream",
     "text": [
      "Minimum value is: 0 & it index is: 2\n"
     ]
    }
   ],
   "source": [
    "a,b = findMin([2, 4, 0, 8])\n",
    "print(a, b)"
   ]
  },
  {
   "cell_type": "code",
   "execution_count": 30,
   "metadata": {},
   "outputs": [],
   "source": [
    "findMin??"
   ]
  },
  {
   "cell_type": "code",
   "execution_count": null,
   "metadata": {},
   "outputs": [],
   "source": [
    "def swapValues(L, index1, index2):\n",
    "    tmp = L[index1]\n",
    "    L[index1] = L[index2]\n",
    "    L[index2] = tmp\n",
    "    ret"
   ]
  }
 ],
 "metadata": {
  "kernelspec": {
   "display_name": "Python 3",
   "language": "python",
   "name": "python3"
  },
  "language_info": {
   "codemirror_mode": {
    "name": "ipython",
    "version": 3
   },
   "file_extension": ".py",
   "mimetype": "text/x-python",
   "name": "python",
   "nbconvert_exporter": "python",
   "pygments_lexer": "ipython3",
   "version": "3.8.3"
  }
 },
 "nbformat": 4,
 "nbformat_minor": 4
}
