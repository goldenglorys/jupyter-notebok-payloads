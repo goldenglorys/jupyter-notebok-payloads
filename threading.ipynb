{
 "cells": [
  {
   "cell_type": "code",
   "execution_count": 4,
   "metadata": {},
   "outputs": [
    {
     "name": "stdout",
     "output_type": "stream",
     "text": [
      "Send out messages\n",
      "Send out messages\n",
      "Send out messages\n",
      "Send out messages\n",
      "Send out messages\n",
      "Receive messagesSend out messages\n",
      "Send out messages\n",
      "Send out messages\n",
      "Send out messages\n",
      "Send out messages\n",
      "\n",
      "Receive messages\n",
      "Receive messages\n",
      "Receive messages\n",
      "Receive messages\n",
      "Receive messages\n",
      "Receive messages\n",
      "Receive messages\n",
      "Receive messages\n",
      "Receive messages\n"
     ]
    }
   ],
   "source": [
    "import threading\n",
    "\n",
    "class Messenger(threading.Thread):\n",
    "    def run(self):\n",
    "        for _ in range(10):\n",
    "            print(threading.current_thread().getName())\n",
    "\n",
    "\n",
    "x = Messenger(name='Send out messages')\n",
    "y = Messenger(name='Receive messages')\n",
    "x.start()\n",
    "y.start()"
   ]
  },
  {
   "cell_type": "code",
   "execution_count": null,
   "metadata": {},
   "outputs": [],
   "source": []
  }
 ],
 "metadata": {
  "kernelspec": {
   "display_name": "Python 3",
   "language": "python",
   "name": "python3"
  },
  "language_info": {
   "codemirror_mode": {
    "name": "ipython",
    "version": 3
   },
   "file_extension": ".py",
   "mimetype": "text/x-python",
   "name": "python",
   "nbconvert_exporter": "python",
   "pygments_lexer": "ipython3",
   "version": "3.8.3"
  }
 },
 "nbformat": 4,
 "nbformat_minor": 4
}
